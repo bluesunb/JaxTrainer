{
 "cells": [
  {
   "cell_type": "code",
   "execution_count": 1,
   "metadata": {},
   "outputs": [
    {
     "name": "stdout",
     "output_type": "stream",
     "text": [
      "(144, 1)\n"
     ]
    }
   ],
   "source": [
    "import jax, jax.numpy as jp\n",
    "import flax.struct\n",
    "import flax.linen as nn\n",
    "import math\n",
    "\n",
    "# jax.config.update('jax_platform_name', 'cpu')\n",
    "\n",
    "\n",
    "class Network(nn.Module):\n",
    "    @nn.compact\n",
    "    def __call__(self, x: jp.ndarray):\n",
    "        x = nn.Dense(512)(x)\n",
    "        for i in range(int(math.log2(x.shape[1])) - 2):\n",
    "            x = nn.Conv(512 // 2 ** (i + 1), (3, 3), (1, 1), padding='SAME')(x)\n",
    "            x = nn.Conv(512 // 2 ** (i + 1), (3, 3), (2, 2), padding='VALID')(x)\n",
    "            x = nn.LayerNorm()(x)\n",
    "            x = nn.gelu(x)\n",
    "        \n",
    "        x = x.reshape(-1, 1)\n",
    "        x = nn.Dense(1)(x)\n",
    "        x = nn.tanh(x)\n",
    "        return x\n",
    "    \n",
    "\n",
    "model = Network()\n",
    "rng = jax.random.PRNGKey(0)\n",
    "out, param = model.init_with_output(rng, jp.ones((1, 128, 128, 3)))\n",
    "print(out.shape)"
   ]
  },
  {
   "cell_type": "code",
   "execution_count": 2,
   "metadata": {},
   "outputs": [
    {
     "name": "stdout",
     "output_type": "stream",
     "text": [
      "483 ms ± 0 ns per loop (mean ± std. dev. of 1 run, 1 loop each)\n"
     ]
    }
   ],
   "source": [
    "@jax.jit\n",
    "def step(params, x):\n",
    "    return model.apply(params, x)\n",
    "\n",
    "x = jax.random.uniform(rng, (1, 128, 128, 3))\n",
    "%timeit -n 1 -r 1 step(param, x)"
   ]
  },
  {
   "cell_type": "code",
   "execution_count": 3,
   "metadata": {},
   "outputs": [
    {
     "name": "stdout",
     "output_type": "stream",
     "text": [
      "477 µs ± 0 ns per loop (mean ± std. dev. of 1 run, 1 loop each)\n"
     ]
    }
   ],
   "source": [
    "%timeit -n 1 -r 1 step(param, x)"
   ]
  },
  {
   "cell_type": "code",
   "execution_count": 4,
   "metadata": {},
   "outputs": [
    {
     "name": "stdout",
     "output_type": "stream",
     "text": [
      "154 ms ± 0 ns per loop (mean ± std. dev. of 1 run, 1 loop each)\n"
     ]
    }
   ],
   "source": [
    "from functools import partial\n",
    "from typing import Any, Dict\n",
    "nontypree_filed = partial(flax.struct.field, pytree_node=False)\n",
    "\n",
    "class Tmp(flax.struct.PyTreeNode):\n",
    "    log: Dict[str, Any] = nontypree_filed()\n",
    "\n",
    "    @jax.jit\n",
    "    def step(self, params, x):\n",
    "        out = model.apply(params, x)\n",
    "        self.log['out'].append(out.mean())\n",
    "        return out\n",
    "\n",
    "rng, _ = jax.random.split(rng)\n",
    "x = jax.random.uniform(rng, (1, 128, 128, 3))\n",
    "log = {'out': []}\n",
    "tmp = Tmp(log=log)\n",
    "%timeit -n 1 -r 1 tmp.step(param, x)\n"
   ]
  },
  {
   "cell_type": "code",
   "execution_count": 5,
   "metadata": {},
   "outputs": [
    {
     "name": "stdout",
     "output_type": "stream",
     "text": [
      "490 µs ± 0 ns per loop (mean ± std. dev. of 1 run, 1 loop each)\n"
     ]
    }
   ],
   "source": [
    "%timeit -n 1 -r 1 tmp.step(param, x)"
   ]
  },
  {
   "cell_type": "code",
   "execution_count": 6,
   "metadata": {},
   "outputs": [
    {
     "data": {
      "text/plain": [
       "{'out': [Traced<ShapedArray(float32[])>with<DynamicJaxprTrace(level=1/0)>]}"
      ]
     },
     "execution_count": 6,
     "metadata": {},
     "output_type": "execute_result"
    }
   ],
   "source": [
    "tmp.log"
   ]
  },
  {
   "cell_type": "code",
   "execution_count": 13,
   "metadata": {},
   "outputs": [
    {
     "ename": "UnexpectedTracerError",
     "evalue": "Encountered an unexpected tracer. A function transformed by JAX had a side effect, allowing for a reference to an intermediate value with type float32[] wrapped in a DynamicJaxprTracer to escape the scope of the transformation.\nJAX transformations require that functions explicitly return their outputs, and disallow saving intermediate values to global state.\nThe function being traced when the value leaked was step at /tmp/ipykernel_125546/2928496050.py:8 traced for jit.\n------------------------------\nThe leaked intermediate value was created on line /tmp/ipykernel_125546/2928496050.py:11:31 (Tmp.step). \n------------------------------\nWhen the value was created, the final 5 stack frames (most recent last) excluding JAX-internal frames were:\n------------------------------\n<frozen runpy>:198:11 (_run_module_as_main)\n<frozen runpy>:88:4 (_run_code)\n/tmp/ipykernel_125546/2928496050.py:18 (<module>)\n<magic-timeit>:1 (inner)\n/tmp/ipykernel_125546/2928496050.py:11:31 (Tmp.step)\n------------------------------\n\nTo catch the leak earlier, try setting the environment variable JAX_CHECK_TRACER_LEAKS or using the `jax.checking_leaks` context manager.\nSee https://jax.readthedocs.io/en/latest/errors.html#jax.errors.UnexpectedTracerError",
     "output_type": "error",
     "traceback": [
      "\u001b[0;31m---------------------------------------------------------------------------\u001b[0m",
      "\u001b[0;31mUnexpectedTracerError\u001b[0m                     Traceback (most recent call last)",
      "Cell \u001b[0;32mIn[13], line 1\u001b[0m\n\u001b[0;32m----> 1\u001b[0m tmp\u001b[38;5;241m.\u001b[39mlog[\u001b[38;5;124m'\u001b[39m\u001b[38;5;124mout\u001b[39m\u001b[38;5;124m'\u001b[39m][\u001b[38;5;241m0\u001b[39m]\u001b[38;5;241m.\u001b[39mmax()\n",
      "    \u001b[0;31m[... skipping hidden 1 frame]\u001b[0m\n",
      "File \u001b[0;32m~/anaconda3/envs/rl/lib/python3.11/site-packages/jax/_src/numpy/reductions.py:268\u001b[0m, in \u001b[0;36mmax\u001b[0;34m(a, axis, out, keepdims, initial, where)\u001b[0m\n\u001b[1;32m    264\u001b[0m \u001b[38;5;129m@implements\u001b[39m(np\u001b[38;5;241m.\u001b[39mmax, skip_params\u001b[38;5;241m=\u001b[39m[\u001b[38;5;124m'\u001b[39m\u001b[38;5;124mout\u001b[39m\u001b[38;5;124m'\u001b[39m])\n\u001b[1;32m    265\u001b[0m \u001b[38;5;28;01mdef\u001b[39;00m \u001b[38;5;21mmax\u001b[39m(a: ArrayLike, axis: Axis \u001b[38;5;241m=\u001b[39m \u001b[38;5;28;01mNone\u001b[39;00m, out: \u001b[38;5;28;01mNone\u001b[39;00m \u001b[38;5;241m=\u001b[39m \u001b[38;5;28;01mNone\u001b[39;00m,\n\u001b[1;32m    266\u001b[0m         keepdims: \u001b[38;5;28mbool\u001b[39m \u001b[38;5;241m=\u001b[39m \u001b[38;5;28;01mFalse\u001b[39;00m, initial: ArrayLike \u001b[38;5;241m|\u001b[39m \u001b[38;5;28;01mNone\u001b[39;00m \u001b[38;5;241m=\u001b[39m \u001b[38;5;28;01mNone\u001b[39;00m,\n\u001b[1;32m    267\u001b[0m         where: ArrayLike \u001b[38;5;241m|\u001b[39m \u001b[38;5;28;01mNone\u001b[39;00m \u001b[38;5;241m=\u001b[39m \u001b[38;5;28;01mNone\u001b[39;00m) \u001b[38;5;241m-\u001b[39m\u001b[38;5;241m>\u001b[39m Array:\n\u001b[0;32m--> 268\u001b[0m   \u001b[38;5;28;01mreturn\u001b[39;00m _reduce_max(a, axis\u001b[38;5;241m=\u001b[39m_ensure_optional_axes(axis), out\u001b[38;5;241m=\u001b[39mout,\n\u001b[1;32m    269\u001b[0m                      keepdims\u001b[38;5;241m=\u001b[39mkeepdims, initial\u001b[38;5;241m=\u001b[39minitial, where\u001b[38;5;241m=\u001b[39mwhere)\n",
      "    \u001b[0;31m[... skipping hidden 5 frame]\u001b[0m\n",
      "File \u001b[0;32m~/anaconda3/envs/rl/lib/python3.11/site-packages/jax/_src/interpreters/partial_eval.py:1720\u001b[0m, in \u001b[0;36mDynamicJaxprTracer._assert_live\u001b[0;34m(self)\u001b[0m\n\u001b[1;32m   1718\u001b[0m \u001b[38;5;28;01mdef\u001b[39;00m \u001b[38;5;21m_assert_live\u001b[39m(\u001b[38;5;28mself\u001b[39m) \u001b[38;5;241m-\u001b[39m\u001b[38;5;241m>\u001b[39m \u001b[38;5;28;01mNone\u001b[39;00m:\n\u001b[1;32m   1719\u001b[0m   \u001b[38;5;28;01mif\u001b[39;00m \u001b[38;5;129;01mnot\u001b[39;00m \u001b[38;5;28mself\u001b[39m\u001b[38;5;241m.\u001b[39m_trace\u001b[38;5;241m.\u001b[39mmain\u001b[38;5;241m.\u001b[39mjaxpr_stack:  \u001b[38;5;66;03m# type: ignore\u001b[39;00m\n\u001b[0;32m-> 1720\u001b[0m     \u001b[38;5;28;01mraise\u001b[39;00m core\u001b[38;5;241m.\u001b[39mescaped_tracer_error(\u001b[38;5;28mself\u001b[39m, \u001b[38;5;28;01mNone\u001b[39;00m)\n",
      "\u001b[0;31mUnexpectedTracerError\u001b[0m: Encountered an unexpected tracer. A function transformed by JAX had a side effect, allowing for a reference to an intermediate value with type float32[] wrapped in a DynamicJaxprTracer to escape the scope of the transformation.\nJAX transformations require that functions explicitly return their outputs, and disallow saving intermediate values to global state.\nThe function being traced when the value leaked was step at /tmp/ipykernel_125546/2928496050.py:8 traced for jit.\n------------------------------\nThe leaked intermediate value was created on line /tmp/ipykernel_125546/2928496050.py:11:31 (Tmp.step). \n------------------------------\nWhen the value was created, the final 5 stack frames (most recent last) excluding JAX-internal frames were:\n------------------------------\n<frozen runpy>:198:11 (_run_module_as_main)\n<frozen runpy>:88:4 (_run_code)\n/tmp/ipykernel_125546/2928496050.py:18 (<module>)\n<magic-timeit>:1 (inner)\n/tmp/ipykernel_125546/2928496050.py:11:31 (Tmp.step)\n------------------------------\n\nTo catch the leak earlier, try setting the environment variable JAX_CHECK_TRACER_LEAKS or using the `jax.checking_leaks` context manager.\nSee https://jax.readthedocs.io/en/latest/errors.html#jax.errors.UnexpectedTracerError"
     ]
    }
   ],
   "source": [
    "tmp.log['out'][0].max()"
   ]
  },
  {
   "cell_type": "code",
   "execution_count": 15,
   "metadata": {},
   "outputs": [
    {
     "name": "stdout",
     "output_type": "stream",
     "text": [
      "130 ms ± 0 ns per loop (mean ± std. dev. of 1 run, 1 loop each)\n"
     ]
    }
   ],
   "source": [
    "tmp = tmp.replace(x=jax.random.uniform(jax.random.split(rng)[0], (1, 64, 64, 3)))\n",
    "%timeit -n 1 -r 1 tmp.step()"
   ]
  },
  {
   "cell_type": "code",
   "execution_count": 17,
   "metadata": {},
   "outputs": [
    {
     "name": "stdout",
     "output_type": "stream",
     "text": [
      "22.8 ms ± 0 ns per loop (mean ± std. dev. of 1 run, 1 loop each)\n"
     ]
    }
   ],
   "source": [
    "tmp = tmp.replace(dummpy=False)\n",
    "%timeit -n 1 -r 1 tmp.step()"
   ]
  },
  {
   "cell_type": "code",
   "execution_count": 18,
   "metadata": {},
   "outputs": [
    {
     "name": "stdout",
     "output_type": "stream",
     "text": [
      "19.9 ms ± 0 ns per loop (mean ± std. dev. of 1 run, 1 loop each)\n"
     ]
    }
   ],
   "source": [
    "param['params']['Conv_0']['kernel'] += 1\n",
    "tmp = tmp.replace(params=param)\n",
    "%timeit -n 1 -r 1 tmp.step()"
   ]
  },
  {
   "cell_type": "code",
   "execution_count": null,
   "metadata": {},
   "outputs": [],
   "source": []
  }
 ],
 "metadata": {
  "kernelspec": {
   "display_name": "rl",
   "language": "python",
   "name": "python3"
  },
  "language_info": {
   "codemirror_mode": {
    "name": "ipython",
    "version": 3
   },
   "file_extension": ".py",
   "mimetype": "text/x-python",
   "name": "python",
   "nbconvert_exporter": "python",
   "pygments_lexer": "ipython3",
   "version": "3.11.9"
  }
 },
 "nbformat": 4,
 "nbformat_minor": 2
}
