{
 "cells": [
  {
   "cell_type": "code",
   "execution_count": 5,
   "metadata": {},
   "outputs": [],
   "source": [
    "import jax, jax.numpy as jp\n",
    "import flax.linen as nn\n",
    "\n",
    "\n",
    "class Test:\n",
    "    def __init__(self, n):\n",
    "        self.n = n\n",
    "        self.model = nn.Dense(10)\n",
    "        self.params = self.model.init(jax.random.PRNGKey(0), jp.ones((8, 1)))\n",
    "        self.__call__ = jax.jit(self.make_fn())\n",
    "        \n",
    "    def make_fn(self):\n",
    "        def apply(x):\n",
    "            out = self.model.apply(self.params, x)\n",
    "            return jp.sum(out >= self.n)\n",
    "        return apply"
   ]
  },
  {
   "cell_type": "code",
   "execution_count": 6,
   "metadata": {},
   "outputs": [],
   "source": [
    "test = Test(0.5)"
   ]
  },
  {
   "cell_type": "code",
   "execution_count": 7,
   "metadata": {},
   "outputs": [
    {
     "data": {
      "text/plain": [
       "{'params': {'kernel': Array([[ 0.7837025 ,  0.02946448, -0.55363274,  0.82858545, -0.89440423,\n",
       "          -1.7786882 ,  0.51747984,  1.5032254 , -0.06438798,  0.699473  ]],      dtype=float32),\n",
       "  'bias': Array([0., 0., 0., 0., 0., 0., 0., 0., 0., 0.], dtype=float32)}}"
      ]
     },
     "execution_count": 7,
     "metadata": {},
     "output_type": "execute_result"
    }
   ],
   "source": [
    "test.params"
   ]
  },
  {
   "cell_type": "code",
   "execution_count": 10,
   "metadata": {},
   "outputs": [
    {
     "data": {
      "text/plain": [
       "Array(22, dtype=int32)"
      ]
     },
     "execution_count": 10,
     "metadata": {},
     "output_type": "execute_result"
    }
   ],
   "source": [
    "rng = jax.random.PRNGKey(0)\n",
    "x = jax.random.normal(rng, (8, 1))\n",
    "test.__call__(x)"
   ]
  },
  {
   "cell_type": "code",
   "execution_count": 11,
   "metadata": {},
   "outputs": [
    {
     "data": {
      "text/plain": [
       "Array(22, dtype=int32)"
      ]
     },
     "execution_count": 11,
     "metadata": {},
     "output_type": "execute_result"
    }
   ],
   "source": [
    "test.n = 0.1\n",
    "test.__call__(x)"
   ]
  },
  {
   "cell_type": "code",
   "execution_count": 34,
   "metadata": {},
   "outputs": [],
   "source": [
    "from typing import Callable\n",
    "from flax.struct import PyTreeNode, field\n",
    "\n",
    "class JitTest(PyTreeNode):\n",
    "    n: float = field(pytree_node=False)\n",
    "    apply_fn: Callable = field(pytree_node=False)\n",
    "    params: PyTreeNode\n",
    "    \n",
    "    @jax.jit\n",
    "    def apply(self, x):\n",
    "        out = self.apply_fn(self.params, x)\n",
    "        return jp.sum(out >= self.n)"
   ]
  },
  {
   "cell_type": "code",
   "execution_count": 35,
   "metadata": {},
   "outputs": [],
   "source": [
    "model = nn.Dense(10)\n",
    "params = model.init(jax.random.PRNGKey(0), jp.ones((8, 1)))\n",
    "test = JitTest(n=0.5, apply_fn=model.apply, params=params)"
   ]
  },
  {
   "cell_type": "code",
   "execution_count": 36,
   "metadata": {},
   "outputs": [
    {
     "data": {
      "text/plain": [
       "Array(22, dtype=int32)"
      ]
     },
     "execution_count": 36,
     "metadata": {},
     "output_type": "execute_result"
    }
   ],
   "source": [
    "x = jax.random.normal(rng, (8, 1))\n",
    "test.apply(x)"
   ]
  },
  {
   "cell_type": "code",
   "execution_count": 39,
   "metadata": {},
   "outputs": [
    {
     "data": {
      "text/plain": [
       "Array(28, dtype=int32)"
      ]
     },
     "execution_count": 39,
     "metadata": {},
     "output_type": "execute_result"
    }
   ],
   "source": [
    "test = test.replace(n=0.1)\n",
    "test.apply(x)"
   ]
  },
  {
   "cell_type": "code",
   "execution_count": null,
   "metadata": {},
   "outputs": [],
   "source": []
  }
 ],
 "metadata": {
  "kernelspec": {
   "display_name": "rl",
   "language": "python",
   "name": "python3"
  },
  "language_info": {
   "codemirror_mode": {
    "name": "ipython",
    "version": 3
   },
   "file_extension": ".py",
   "mimetype": "text/x-python",
   "name": "python",
   "nbconvert_exporter": "python",
   "pygments_lexer": "ipython3",
   "version": "3.11.9"
  }
 },
 "nbformat": 4,
 "nbformat_minor": 2
}
